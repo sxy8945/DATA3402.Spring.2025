{
 "cells": [
  {
   "cell_type": "markdown",
   "metadata": {},
   "source": [
    "## Lab 2- Tic Tac Toe\n",
    "\n",
    "In this lab your will build a n x n Tic Tac Toe game. As you do the exercises, make sure your solutions work for any size Tic Tac Toe game. "
   ]
  },
  {
   "cell_type": "markdown",
   "metadata": {},
   "source": [
    "*Exercise 1:* Write a function that creates an n by n matrix (of list of lists) which will represent the state of a Tie Tac Toe game. Let 0, 1, and 2 represent empty, \"X\", and \"O\", respectively.\n"
   ]
  },
  {
   "cell_type": "code",
   "execution_count": 1,
   "metadata": {},
   "outputs": [],
   "source": [
    "#1 \n",
    "\n",
    "import numpy as np\n",
    "\n",
    "def create_board(n):\n",
    "    return [[0] * n for _ in range(n)]"
   ]
  },
  {
   "cell_type": "code",
   "execution_count": 2,
   "metadata": {},
   "outputs": [
    {
     "name": "stdout",
     "output_type": "stream",
     "text": [
      "[0, 0, 0]\n",
      "[0, 0, 0]\n",
      "[0, 0, 0]\n",
      "\n"
     ]
    }
   ],
   "source": [
    "board = create_board(3)\n",
    "for row in board:\n",
    "    print(row)\n",
    "print()"
   ]
  },
  {
   "cell_type": "markdown",
   "metadata": {},
   "source": [
    "*Exercise 2:* Write a function that takes 2 integers `n` and `m` as input and draws a `n` by `m` game board. For example the following is a 3x3 board:\n",
    "```\n",
    "   --- --- --- \n",
    "  |   |   |   | \n",
    "   --- --- ---  \n",
    "  |   |   |   | \n",
    "   --- --- ---  \n",
    "  |   |   |   | \n",
    "   --- --- --- \n",
    "   ```"
   ]
  },
  {
   "cell_type": "code",
   "execution_count": 3,
   "metadata": {},
   "outputs": [],
   "source": [
    "#2 \n",
    "def draw_board(n, m):\n",
    "    for i in range(n):\n",
    "        print(\"  \" + \" ---\" * m) \n",
    "        print(\"  |\" + \"   |\" * m) \n",
    "    print(\"  \" + \" ---\" * m) "
   ]
  },
  {
   "cell_type": "code",
   "execution_count": 4,
   "metadata": {},
   "outputs": [
    {
     "name": "stdout",
     "output_type": "stream",
     "text": [
      "   --- --- ---\n",
      "  |   |   |   |\n",
      "   --- --- ---\n",
      "  |   |   |   |\n",
      "   --- --- ---\n",
      "  |   |   |   |\n",
      "   --- --- ---\n",
      "\n"
     ]
    }
   ],
   "source": [
    "draw_board(3, 3)\n",
    "print()"
   ]
  },
  {
   "cell_type": "markdown",
   "metadata": {},
   "source": [
    "*Exercise 3:* Modify exercise 2, so that it takes a matrix of the form from exercise 1 and draws a tic-tac-tie board with \"X\"s and \"O\"s.  "
   ]
  },
  {
   "cell_type": "code",
   "execution_count": 5,
   "metadata": {},
   "outputs": [],
   "source": [
    "#3\n",
    "def draw_board_with_pieces(board):\n",
    "    n = len(board)\n",
    "    symbols = {0: \" \", 1: \"X\", 2: \"O\"}\n",
    "    for row in board:\n",
    "        print(\"  \" + \" ---\" * n)\n",
    "        print(\"  | \" + \" | \".join(symbols[cell] for cell in row) + \" |\")\n",
    "    print(\"  \" + \" ---\" * n)  "
   ]
  },
  {
   "cell_type": "code",
   "execution_count": 6,
   "metadata": {},
   "outputs": [
    {
     "name": "stdout",
     "output_type": "stream",
     "text": [
      "   --- --- ---\n",
      "  |   |   |   |\n",
      "   --- --- ---\n",
      "  |   | X |   |\n",
      "   --- --- ---\n",
      "  |   |   | O |\n",
      "   --- --- ---\n",
      "\n"
     ]
    }
   ],
   "source": [
    "board[1][1] = 1\n",
    "board[2][2] = 2\n",
    "draw_board_with_pieces(board)\n",
    "print()"
   ]
  },
  {
   "cell_type": "markdown",
   "metadata": {},
   "source": [
    "*Exercise 4:* Write a function that takes a `n` by `n` matrix representing a tic-tac-toe game, and returns -1, 0, 1, or 2 indicating the game is incomplete, the game is a draw, player 1 has won, or player 2 has one, respectively. Here are some example inputs you can use to test your code:"
   ]
  },
  {
   "cell_type": "code",
   "execution_count": 7,
   "metadata": {},
   "outputs": [],
   "source": [
    "# 4\n",
    "def check_winner(board):\n",
    "    n = len(board)\n",
    "    for i in range(n):\n",
    "        if all(board[i][j] == 1 for j in range(n)) or all(board[j][i] == 1 for j in range(n)):\n",
    "            return 1\n",
    "        if all(board[i][j] == 2 for j in range(n)) or all(board[j][i] == 2 for j in range(n)):\n",
    "            return 2\n",
    "    if all(board[i][i] == 1 for i in range(n)) or all(board[i][n-1-i] == 1 for i in range(n)):\n",
    "        return 1\n",
    "    if all(board[i][i] == 2 for i in range(n)) or all(board[i][n-1-i] == 2 for i in range(n)):\n",
    "        return 2\n",
    "    if any(0 in row for row in board):\n",
    "        return -1\n",
    "    return 0"
   ]
  },
  {
   "cell_type": "code",
   "execution_count": 8,
   "metadata": {},
   "outputs": [],
   "source": [
    "# Test your solution here"
   ]
  },
  {
   "cell_type": "code",
   "execution_count": 9,
   "metadata": {},
   "outputs": [],
   "source": [
    "winner_is_2 = [[2, 2, 0],\n",
    "\t[2, 1, 0],\n",
    "\t[2, 1, 1]]\n",
    "\n",
    "winner_is_1 = [[1, 2, 0],\n",
    "\t[2, 1, 0],\n",
    "\t[2, 1, 1]]\n",
    "\n",
    "winner_is_also_1 = [[0, 1, 0],\n",
    "\t[2, 1, 0],\n",
    "\t[2, 1, 1]]\n",
    "\n",
    "no_winner = [[1, 2, 0],\n",
    "\t[2, 1, 0],\n",
    "\t[2, 1, 2]]\n",
    "\n",
    "also_no_winner = [[1, 2, 0],\n",
    "\t[2, 1, 0],\n",
    "\t[2, 1, 0]]"
   ]
  },
  {
   "cell_type": "code",
   "execution_count": 10,
   "metadata": {},
   "outputs": [
    {
     "name": "stdout",
     "output_type": "stream",
     "text": [
      "2\n",
      "1\n",
      "1\n",
      "-1\n",
      "-1\n"
     ]
    }
   ],
   "source": [
    "print(check_winner(winner_is_2))  \n",
    "print(check_winner(winner_is_1))  \n",
    "print(check_winner(winner_is_also_1))  \n",
    "print(check_winner(no_winner))  \n",
    "print(check_winner(also_no_winner)) \n"
   ]
  },
  {
   "cell_type": "markdown",
   "metadata": {},
   "source": [
    "*Exercise 5:* Write a function that takes a game board, player number, and `(x,y)` coordinates and places \"X\" or \"O\" in the correct location of the game board. Make sure that you only allow filling previously empty locations. Return `True` or `False` to indicate successful placement of \"X\" or \"O\"."
   ]
  },
  {
   "cell_type": "code",
   "execution_count": 11,
   "metadata": {},
   "outputs": [],
   "source": [
    "#5\n",
    "def place_move(board, player, x, y):\n",
    "    if board[x][y] == 0:\n",
    "        board[x][y] = player\n",
    "        return True\n",
    "    return False\n"
   ]
  },
  {
   "cell_type": "code",
   "execution_count": 12,
   "metadata": {},
   "outputs": [
    {
     "name": "stdout",
     "output_type": "stream",
     "text": [
      "[[1, 0, 0], [0, 2, 0], [0, 0, 0]]\n"
     ]
    }
   ],
   "source": [
    "board = [[0, 0, 0], \n",
    "         [0, 0, 0],\n",
    "         [0, 0, 0]]\n",
    "place_move(board, 1, 0, 0)  \n",
    "place_move(board, 2, 1, 1)  \n",
    "print(board)\n"
   ]
  },
  {
   "cell_type": "markdown",
   "metadata": {},
   "source": [
    "*Exercise 6:* Modify Exercise 3 to show column and row labels so that players can specify location using \"A2\" or \"C1\"."
   ]
  },
  {
   "cell_type": "code",
   "execution_count": 13,
   "metadata": {},
   "outputs": [],
   "source": [
    "#6\n",
    "\n",
    "def draw_board_with_labels(board):\n",
    "    n = len(board)\n",
    "    column_labels = [\"A\", \"B\", \"C\", \"D\", \"E\"][:n]  \n",
    "    print(\"    \" + \"   \".join(column_labels))\n",
    "    \n",
    "    for i, row in enumerate(board):\n",
    "        print(\"  \" + \" ---\" * n)\n",
    "        print(f\"{i+1} | \" + \" | \".join(\"X\" if cell == 1 else \"O\" if cell == 2 else \" \" for cell in row) + \" |\")\n",
    "    print(\"  \" + \" ---\" * n)\n"
   ]
  },
  {
   "cell_type": "code",
   "execution_count": 14,
   "metadata": {},
   "outputs": [
    {
     "name": "stdout",
     "output_type": "stream",
     "text": [
      "    A   B   C\n",
      "   --- --- ---\n",
      "1 | X | O |   |\n",
      "   --- --- ---\n",
      "2 |   | X | O |\n",
      "   --- --- ---\n",
      "3 | O |   | X |\n",
      "   --- --- ---\n"
     ]
    }
   ],
   "source": [
    "board = [[1, 2, 0], [0, 1, 2], [2, 0, 1]]\n",
    "draw_board_with_labels(board)"
   ]
  },
  {
   "cell_type": "markdown",
   "metadata": {},
   "source": [
    "*Exercise 7:* Write a function that takes a board, player number, and location specified as in exercise 6 and then calls exercise 5 to correctly modify the board.  "
   ]
  },
  {
   "cell_type": "code",
   "execution_count": 15,
   "metadata": {},
   "outputs": [],
   "source": [
    "#7\n",
    "def place_move_labeled(board, player, position):\n",
    "    x = int(position[1]) - 1\n",
    "    y = ord(position[0].upper()) - 65  \n",
    "    return place_move(board, player, x, y)\n"
   ]
  },
  {
   "cell_type": "code",
   "execution_count": 16,
   "metadata": {},
   "outputs": [
    {
     "name": "stdout",
     "output_type": "stream",
     "text": [
      "    A   B   C\n",
      "   --- --- ---\n",
      "1 | X |   |   |\n",
      "   --- --- ---\n",
      "2 |   | O |   |\n",
      "   --- --- ---\n",
      "3 |   |   |   |\n",
      "   --- --- ---\n"
     ]
    }
   ],
   "source": [
    "board = [[0, 0, 0], [0, 0, 0], [0, 0, 0]]\n",
    "place_move_labeled(board, 1, \"A1\")\n",
    "place_move_labeled(board, 2, \"B2\")\n",
    "draw_board_with_labels(board)"
   ]
  },
  {
   "cell_type": "markdown",
   "metadata": {},
   "source": [
    "*Exercise 8:* Write a function is called with a board and player number, takes input from the player using python's `input`, and modifies the board using your function from exercise 7. Note that you should keep asking for input until you have gotten a valid input that results in a valid move."
   ]
  },
  {
   "cell_type": "code",
   "execution_count": 17,
   "metadata": {},
   "outputs": [],
   "source": [
    "#8 \n",
    "def get_player_move(board, player):\n",
    "    valid = False\n",
    "    while not valid:\n",
    "        move = input(f\"Player {player}, enter your move (e.g., A1, B2): \").strip().upper()\n",
    "        if len(move) == 2 and move[0] in \"ABCDE\"[:len(board)] and move[1].isdigit():\n",
    "            valid = place_move_labeled(board, player, move)\n",
    "        if not valid:\n",
    "            print(\"Invalid move, try again.\")\n",
    "\n"
   ]
  },
  {
   "cell_type": "code",
   "execution_count": 18,
   "metadata": {},
   "outputs": [
    {
     "name": "stdout",
     "output_type": "stream",
     "text": [
      "Player 1, enter your move (e.g., A1, B2): A1\n",
      "Invalid move, try again.\n",
      "Player 1, enter your move (e.g., A1, B2): A3\n",
      "    A   B   C\n",
      "   --- --- ---\n",
      "1 | X |   |   |\n",
      "   --- --- ---\n",
      "2 |   | O |   |\n",
      "   --- --- ---\n",
      "3 | X |   |   |\n",
      "   --- --- ---\n"
     ]
    }
   ],
   "source": [
    "\n",
    "get_player_move(board, 1)\n",
    "draw_board_with_labels(board)"
   ]
  },
  {
   "cell_type": "markdown",
   "metadata": {},
   "source": [
    "*Exercise 9:* Use all of the previous exercises to implement a full tic-tac-toe game, where an appropriate board is drawn, 2 players are repeatedly asked for a location coordinates of where they wish to place a mark, and the game status is checked until a player wins or a draw occurs."
   ]
  },
  {
   "cell_type": "code",
   "execution_count": 19,
   "metadata": {},
   "outputs": [],
   "source": [
    "#9\n",
    "def play_game(n):\n",
    "    board = [[0] * n for _ in range(n)]\n",
    "    draw_board_with_labels(board)\n",
    "    player = 1\n",
    "    while True:\n",
    "        get_player_move(board, player)\n",
    "        draw_board_with_labels(board)\n",
    "        status = check_winner(board)\n",
    "        if status in [0, 1, 2]:\n",
    "            print(\"Draw!\" if status == 0 else f\"Player {status} wins!\")\n",
    "            break\n",
    "        player = 3 - player  \n"
   ]
  },
  {
   "cell_type": "code",
   "execution_count": 20,
   "metadata": {},
   "outputs": [
    {
     "name": "stdout",
     "output_type": "stream",
     "text": [
      "    A   B   C\n",
      "   --- --- ---\n",
      "1 |   |   |   |\n",
      "   --- --- ---\n",
      "2 |   |   |   |\n",
      "   --- --- ---\n",
      "3 |   |   |   |\n",
      "   --- --- ---\n",
      "Player 1, enter your move (e.g., A1, B2): A1\n",
      "    A   B   C\n",
      "   --- --- ---\n",
      "1 | X |   |   |\n",
      "   --- --- ---\n",
      "2 |   |   |   |\n",
      "   --- --- ---\n",
      "3 |   |   |   |\n",
      "   --- --- ---\n",
      "Player 2, enter your move (e.g., A1, B2): B3\n",
      "    A   B   C\n",
      "   --- --- ---\n",
      "1 | X |   |   |\n",
      "   --- --- ---\n",
      "2 |   |   |   |\n",
      "   --- --- ---\n",
      "3 |   | O |   |\n",
      "   --- --- ---\n",
      "Player 1, enter your move (e.g., A1, B2): B2\n",
      "    A   B   C\n",
      "   --- --- ---\n",
      "1 | X |   |   |\n",
      "   --- --- ---\n",
      "2 |   | X |   |\n",
      "   --- --- ---\n",
      "3 |   | O |   |\n",
      "   --- --- ---\n",
      "Player 2, enter your move (e.g., A1, B2): C3\n",
      "    A   B   C\n",
      "   --- --- ---\n",
      "1 | X |   |   |\n",
      "   --- --- ---\n",
      "2 |   | X |   |\n",
      "   --- --- ---\n",
      "3 |   | O | O |\n",
      "   --- --- ---\n",
      "Player 1, enter your move (e.g., A1, B2): A2\n",
      "    A   B   C\n",
      "   --- --- ---\n",
      "1 | X |   |   |\n",
      "   --- --- ---\n",
      "2 | X | X |   |\n",
      "   --- --- ---\n",
      "3 |   | O | O |\n",
      "   --- --- ---\n",
      "Player 2, enter your move (e.g., A1, B2): A3\n",
      "    A   B   C\n",
      "   --- --- ---\n",
      "1 | X |   |   |\n",
      "   --- --- ---\n",
      "2 | X | X |   |\n",
      "   --- --- ---\n",
      "3 | O | O | O |\n",
      "   --- --- ---\n",
      "Player 2 wins!\n"
     ]
    }
   ],
   "source": [
    "play_game(3)\n"
   ]
  },
  {
   "cell_type": "markdown",
   "metadata": {},
   "source": [
    "*Exercise 10:* Test that your game works for 5x5 Tic Tac Toe.  "
   ]
  },
  {
   "cell_type": "code",
   "execution_count": 21,
   "metadata": {},
   "outputs": [
    {
     "name": "stdout",
     "output_type": "stream",
     "text": [
      "    A   B   C   D   E\n",
      "   --- --- --- --- ---\n",
      "1 |   |   |   |   |   |\n",
      "   --- --- --- --- ---\n",
      "2 |   |   |   |   |   |\n",
      "   --- --- --- --- ---\n",
      "3 |   |   |   |   |   |\n",
      "   --- --- --- --- ---\n",
      "4 |   |   |   |   |   |\n",
      "   --- --- --- --- ---\n",
      "5 |   |   |   |   |   |\n",
      "   --- --- --- --- ---\n",
      "Player 1, enter your move (e.g., A1, B2): C3\n",
      "    A   B   C   D   E\n",
      "   --- --- --- --- ---\n",
      "1 |   |   |   |   |   |\n",
      "   --- --- --- --- ---\n",
      "2 |   |   |   |   |   |\n",
      "   --- --- --- --- ---\n",
      "3 |   |   | X |   |   |\n",
      "   --- --- --- --- ---\n",
      "4 |   |   |   |   |   |\n",
      "   --- --- --- --- ---\n",
      "5 |   |   |   |   |   |\n",
      "   --- --- --- --- ---\n",
      "Player 2, enter your move (e.g., A1, B2): D3\n",
      "    A   B   C   D   E\n",
      "   --- --- --- --- ---\n",
      "1 |   |   |   |   |   |\n",
      "   --- --- --- --- ---\n",
      "2 |   |   |   |   |   |\n",
      "   --- --- --- --- ---\n",
      "3 |   |   | X | O |   |\n",
      "   --- --- --- --- ---\n",
      "4 |   |   |   |   |   |\n",
      "   --- --- --- --- ---\n",
      "5 |   |   |   |   |   |\n",
      "   --- --- --- --- ---\n",
      "Player 1, enter your move (e.g., A1, B2): B2\n",
      "    A   B   C   D   E\n",
      "   --- --- --- --- ---\n",
      "1 |   |   |   |   |   |\n",
      "   --- --- --- --- ---\n",
      "2 |   | X |   |   |   |\n",
      "   --- --- --- --- ---\n",
      "3 |   |   | X | O |   |\n",
      "   --- --- --- --- ---\n",
      "4 |   |   |   |   |   |\n",
      "   --- --- --- --- ---\n",
      "5 |   |   |   |   |   |\n",
      "   --- --- --- --- ---\n",
      "Player 2, enter your move (e.g., A1, B2): D2\n",
      "    A   B   C   D   E\n",
      "   --- --- --- --- ---\n",
      "1 |   |   |   |   |   |\n",
      "   --- --- --- --- ---\n",
      "2 |   | X |   | O |   |\n",
      "   --- --- --- --- ---\n",
      "3 |   |   | X | O |   |\n",
      "   --- --- --- --- ---\n",
      "4 |   |   |   |   |   |\n",
      "   --- --- --- --- ---\n",
      "5 |   |   |   |   |   |\n",
      "   --- --- --- --- ---\n",
      "Player 1, enter your move (e.g., A1, B2): A1\n",
      "    A   B   C   D   E\n",
      "   --- --- --- --- ---\n",
      "1 | X |   |   |   |   |\n",
      "   --- --- --- --- ---\n",
      "2 |   | X |   | O |   |\n",
      "   --- --- --- --- ---\n",
      "3 |   |   | X | O |   |\n",
      "   --- --- --- --- ---\n",
      "4 |   |   |   |   |   |\n",
      "   --- --- --- --- ---\n",
      "5 |   |   |   |   |   |\n",
      "   --- --- --- --- ---\n",
      "Player 2, enter your move (e.g., A1, B2): D1\n",
      "    A   B   C   D   E\n",
      "   --- --- --- --- ---\n",
      "1 | X |   |   | O |   |\n",
      "   --- --- --- --- ---\n",
      "2 |   | X |   | O |   |\n",
      "   --- --- --- --- ---\n",
      "3 |   |   | X | O |   |\n",
      "   --- --- --- --- ---\n",
      "4 |   |   |   |   |   |\n",
      "   --- --- --- --- ---\n",
      "5 |   |   |   |   |   |\n",
      "   --- --- --- --- ---\n",
      "Player 1, enter your move (e.g., A1, B2): D4\n",
      "    A   B   C   D   E\n",
      "   --- --- --- --- ---\n",
      "1 | X |   |   | O |   |\n",
      "   --- --- --- --- ---\n",
      "2 |   | X |   | O |   |\n",
      "   --- --- --- --- ---\n",
      "3 |   |   | X | O |   |\n",
      "   --- --- --- --- ---\n",
      "4 |   |   |   | X |   |\n",
      "   --- --- --- --- ---\n",
      "5 |   |   |   |   |   |\n",
      "   --- --- --- --- ---\n",
      "Player 2, enter your move (e.g., A1, B2): E4\n",
      "    A   B   C   D   E\n",
      "   --- --- --- --- ---\n",
      "1 | X |   |   | O |   |\n",
      "   --- --- --- --- ---\n",
      "2 |   | X |   | O |   |\n",
      "   --- --- --- --- ---\n",
      "3 |   |   | X | O |   |\n",
      "   --- --- --- --- ---\n",
      "4 |   |   |   | X | O |\n",
      "   --- --- --- --- ---\n",
      "5 |   |   |   |   |   |\n",
      "   --- --- --- --- ---\n",
      "Player 1, enter your move (e.g., A1, B2): E5\n",
      "    A   B   C   D   E\n",
      "   --- --- --- --- ---\n",
      "1 | X |   |   | O |   |\n",
      "   --- --- --- --- ---\n",
      "2 |   | X |   | O |   |\n",
      "   --- --- --- --- ---\n",
      "3 |   |   | X | O |   |\n",
      "   --- --- --- --- ---\n",
      "4 |   |   |   | X | O |\n",
      "   --- --- --- --- ---\n",
      "5 |   |   |   |   | X |\n",
      "   --- --- --- --- ---\n",
      "Player 1 wins!\n"
     ]
    }
   ],
   "source": [
    "#10\n",
    "play_game(5)"
   ]
  },
  {
   "cell_type": "markdown",
   "metadata": {},
   "source": [
    "*Exercise 11:* (Advanced / Challenge) Develop a version of the game where one player is the computer. Note that you don't need to do an extensive seach for the best move. You can have the computer simply protect against loosing and otherwise try to win with straight or diagonal patterns."
   ]
  },
  {
   "cell_type": "code",
   "execution_count": 22,
   "metadata": {},
   "outputs": [],
   "source": [
    "#11\n",
    "def ai_move(board, player):\n",
    "    n = len(board)\n",
    "    for i in range(n):\n",
    "        for j in range(n):\n",
    "            if board[i][j] == 0:\n",
    "                board[i][j] = player\n",
    "                return"
   ]
  },
  {
   "cell_type": "code",
   "execution_count": 23,
   "metadata": {},
   "outputs": [
    {
     "name": "stdout",
     "output_type": "stream",
     "text": [
      "Starting a Tic-Tac-Toe Game with AI:\n",
      "   --- --- ---\n",
      "  |   |   |   |\n",
      "   --- --- ---\n",
      "  |   |   |   |\n",
      "   --- --- ---\n",
      "  |   |   |   |\n",
      "   --- --- ---\n",
      "Player 1, enter your move (e.g., A1, B2): A1\n",
      "   --- --- ---\n",
      "  | X |   |   |\n",
      "   --- --- ---\n",
      "  |   |   |   |\n",
      "   --- --- ---\n",
      "  |   |   |   |\n",
      "   --- --- ---\n",
      "AI is making a move...\n",
      "   --- --- ---\n",
      "  | X | O |   |\n",
      "   --- --- ---\n",
      "  |   |   |   |\n",
      "   --- --- ---\n",
      "  |   |   |   |\n",
      "   --- --- ---\n",
      "Player 1, enter your move (e.g., A1, B2): B2\n",
      "   --- --- ---\n",
      "  | X | O |   |\n",
      "   --- --- ---\n",
      "  |   | X |   |\n",
      "   --- --- ---\n",
      "  |   |   |   |\n",
      "   --- --- ---\n",
      "AI is making a move...\n",
      "   --- --- ---\n",
      "  | X | O | O |\n",
      "   --- --- ---\n",
      "  |   | X |   |\n",
      "   --- --- ---\n",
      "  |   |   |   |\n",
      "   --- --- ---\n",
      "Player 1, enter your move (e.g., A1, B2): C3\n",
      "   --- --- ---\n",
      "  | X | O | O |\n",
      "   --- --- ---\n",
      "  |   | X |   |\n",
      "   --- --- ---\n",
      "  |   |   | X |\n",
      "   --- --- ---\n",
      "Player 1 wins!\n"
     ]
    }
   ],
   "source": [
    "print(\"Starting a Tic-Tac-Toe Game with AI:\")\n",
    "def play_game_with_ai(n):\n",
    "    board = create_board(n)\n",
    "    player = 1\n",
    "    while True:\n",
    "        draw_board_with_pieces(board)\n",
    "        if player == 1:\n",
    "            get_player_move(board, player)\n",
    "        else:\n",
    "            print(\"AI is making a move...\")\n",
    "            ai_move(board, player)\n",
    "        status = check_winner(board)\n",
    "        if status in [0, 1, 2]:\n",
    "            draw_board_with_pieces(board)\n",
    "            print(\"Draw!\" if status == 0 else f\"Player {status} wins!\")\n",
    "            break\n",
    "        player = 3 - player\n",
    "\n",
    "play_game_with_ai(3)"
   ]
  },
  {
   "cell_type": "code",
   "execution_count": null,
   "metadata": {},
   "outputs": [],
   "source": []
  }
 ],
 "metadata": {
  "kernelspec": {
   "display_name": "Python 3 (ipykernel)",
   "language": "python",
   "name": "python3"
  },
  "language_info": {
   "codemirror_mode": {
    "name": "ipython",
    "version": 3
   },
   "file_extension": ".py",
   "mimetype": "text/x-python",
   "name": "python",
   "nbconvert_exporter": "python",
   "pygments_lexer": "ipython3",
   "version": "3.12.3"
  }
 },
 "nbformat": 4,
 "nbformat_minor": 2
}

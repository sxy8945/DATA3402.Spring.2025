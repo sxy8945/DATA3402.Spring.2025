{
 "cells": [
  {
   "cell_type": "markdown",
   "metadata": {},
   "source": [
    "# Lab 3\n",
    "\n",
    "In this lab we will become familiar with distributions, histograms, and functional programming. Do not use numpy or any other library for this lab.\n",
    "\n",
    "Before that, lets get setup homework submission and submit your previous lab.  \n",
    "\n",
    "## Working on the Command-line.\n",
    "\n",
    "It is important for you to learn to work on the command line and to be familiar with the Unix environment (e.g. Linux, Mac OS, or Windows Linux Subsystem). We'll go over working on the command-line in detail later in the course.\n",
    "\n",
    "You are required to submit your work in this course via GitHub. Today in class, you will setup everything on the command-line.\n",
    "\n",
    "### Command-line basics\n",
    "\n",
    "There is plenty of material online that will help you figure out how to do various tasks on the command line. Commands you may need to know today:\n",
    "\n",
    "* `ls`: lists the contents of the current directory.\n",
    "* `pwd`: prints the path of the current directory.\n",
    "* `cd <directory>`: changes your current directory to the specified directory.\n",
    "* `cd ..`: changes current directory to the previous directory. Basically steps out of the current directory to the directory containing the current directory.\n",
    "* `mkdir <directory>`: create a new directory with the specified name.\n",
    "* `rmdir <directory>`: removes the specified directory. Note it has to be empty.\n",
    "* `rm <filename>`: deletes the specified file.\n",
    "* `mv <filename 1> <filename 2>`: Moves or renames a file.\n",
    "* `cp <filename 1> <filename 2>`: copies an file. If you just provide a path to a directory, it copies the file into that directory with the same filename. If you specifiy a new filename, the copy has a new name. For example `cp File.1.txt File.2.txt` creates a copy of `File.1.txt` with the name `File.2.txt`. Meanwhile `cp File.1.txt my_directory`, where `my_directory` is a directory, creates a copy of `File.1.txt` in directory `my_directory` with the name `File.1.txt`.\n",
    "\n",
    "For reference, here are some example resources I found by googling:\n",
    "\n",
    "* Paths and Wildcards: https://www.warp.dev/terminus/linux-wildcards\n",
    "* Basic commands like copy: https://kb.iu.edu/d/afsk\n",
    "* General introduction to shell: https://github-pages.ucl.ac.uk/RCPSTrainingMaterials/HPCandHTCusingLegion/2_intro_to_shell.html\n",
    "* Manual pages: https://www.geeksforgeeks.org/linux-man-page-entries-different-types/?ref=ml_lbp\n",
    "* Chaining commands: https://www.geeksforgeeks.org/chaining-commands-in-linux/?ref=ml_lbp\n",
    "* Piping: https://www.geeksforgeeks.org/piping-in-unix-or-linux/\n",
    "* Using sed: https://www.geeksforgeeks.org/sed-command-linux-set-2/?ref=ml_lbp\n",
    "* Various Unix commands: https://www.geeksforgeeks.org/linux-commands/?ref=lbp\n",
    "* Cheat sheets:\n",
    "    * https://www.stationx.net/unix-commands-cheat-sheet/\n",
    "    * https://cheatography.com/davechild/cheat-sheets/linux-command-line/\n",
    "    * https://www.theknowledgeacademy.com/blog/unix-commands-cheat-sheet/\n",
    "    \n",
    "These aren't necessarily the best resources. Feel free to search for better ones. Also, don't forget that Unix has built-in manual pages for all of its commands. Just type `man <command>` at the command prompt. Use the space-bar to scroll through the documentation and \"q\" to exit.\n",
    "\n",
    "\n",
    "### Setup and Submission\n",
    "\n",
    "Our course repository is public. The instructions here aim to have you setup a fork of the course repository. Unfortunately because you are forking a public repo, your fork will have to be public also. \n",
    "\n",
    "You should be familiar with git from the first semester of this course. I assume that you all have github accounts and have setup things to be able to [push to github using ssh](https://docs.github.com/en/github/authenticating-to-github/connecting-to-github-with-ssh). The instuctions here lead you to:\n",
    "\n",
    "We'll overview what you will do before going through step by step instructions.\n",
    "\n",
    "1. Setup:\n",
    "    1. Fork the class repository. Some directions in [fork-a-repo](https://docs.github.com/en/github/getting-started-with-github/fork-a-repo).\n",
    "    1. Create a directory on your personal system where you will keep all course materials.\n",
    "    1. In that directory, clone your fork of the repository.\n",
    "    1. Using `git remote`, set the upstream to be the class repo, so you can pull from the class and push to your fork.\n",
    "\n",
    "1. Submission:\n",
    "    1. Copy your solutions into the appropriate directory (e.g. into `Labs/Lab.2/`) and with appropriate filename `Lab.2.solution.ipynb'.\n",
    "    1. Commit / push your solutions.\n",
    " \n",
    "Below are step by step instructions with examples (including example directory naming convention). Feel free to modify things as you see fit. \n",
    "\n",
    "#### Setup\n",
    "You should only need to follow this instructions once. Here are some useful git commands:\n",
    "\n",
    "* Git help: `git help`\n",
    "* Git remote help: `git help remote`\n",
    "* Check remote status: `git remote -v`\n",
    "* Add a remote: `git remote add <stream name> <repo URL>`\n",
    "* Add a remove: `git remote remove <stream name>`\n",
    "\n",
    "Steps:\n",
    "1. In a browser, log into GitHub and navigate to the [course repository](https://github.com/UTA-DataScience/DATA3402.Spring.2025).\n",
    "1. On the top right of the page, press the fork button to create a new fork into your own GitHub account.\n",
    "1. After successful fork, you should find the browser showing your fork of the course repository. Use the green \"Code\" button to copy path to the repo into your the clipboard of your computer.\n",
    "1. Open a shell on your personal computer.\n",
    "1. If you have not done so already, create a new directory/folder where you will keep all course material to navigate to it. For example: `mkdir Data-3402` and `cd Data-3402`.\n",
    "1. Clone your fork of the repository using `git clone` followed by the path you copied into your clipboard. (copy/paste)\n",
    "1. Paste the URL to your fork in the worksheet for the TAs and instructors.\n",
    "1. Now go into the directory of your clone (`cd DATA3402.Spring.2025`).\n",
    "1. Type `git remote -v` to see the current setup for fetch and pull.\n",
    "1. Note the URL you see. This should be the same as what you used for your clone for both push and fetch.\n",
    "1. Delete the origin remote using `git remote remove origin`.\n",
    "1. Add the course repo as your remote using `git remote add origin https://github.com/UTA-DataScience/DATA3402.Spring.2025.git`.\n",
    "1. Change the push to point to your fork. This means you will need the URL to your clone we copied earlier and confirmed as the original origin. The command will look something like: `git remote set-url --push origin  https://github.com/XXXXXX/DATA3402.Spring.2025.git`, where XXXXX is your username on GitHub.\n",
    "1. Note that if you setup everything correctly, you now should be able to do `git pull` to get updates from the course repo, and do `git push` to push your commits into your own fork.\n",
    "\n",
    "### Submission\n",
    "These instructions outline how you submit files. Some useful commands:\n",
    "* To add a file to local repository: `git add <file>`.\n",
    "* To commit all changed files into local repository: `git -a -m \"A message\"`. You need to provide some comment when you commit. \n",
    "* To push the commited files from the local repository to GitHub: `git push`.\n",
    "* To get updates from GitHub: `git pull`.\n",
    "\n",
    "Steps:\n",
    "1. To submit your labs, navigate to your clone of your fork of the course repository. \n",
    "1. Use `git pull` to make sure you have the latest updates. \n",
    "1. Make sure your copy of the lab your are working on is in the appropriate place in this clone. That means if you have the file elsewhere, copy it to the same directory in your clone of your fork. \n",
    "1. Note that in order to avoid future conflicts, you should always name your solution differently than the original file in the class repo. For example if your file is still named `Lab.2.ipynb` you should rename it using the `mv` command: `mv Lab.2.ipynb Lab.2.solution.ipynb`. \n",
    "1. Add and files you wish to submit into the repo. For example: `git add Labs/Lab.2/Lab.2.solution.ipynb`\n",
    "1. Commit any changes: `git commit -a -m \"Lab 2 updates\"`\n",
    "1. Push your changes: `git push`\n",
    "1. Check on github website that your solutions have been properly submitted.\n",
    "\n",
    "Before you leave the session today, make sure your GitHub Repo is setup. If you need to work further on your lab, navigate jupyter to the copy of the lab you just submitted and work there. Once done, repeat the commit and push commands to submit your updated solution. Note that lab 2 is due by midnight Friay 1/31/2025.\n"
   ]
  },
  {
   "cell_type": "markdown",
   "metadata": {},
   "source": [
    "### Uniform Distribution\n",
    "Lets start with generating some fake random data. You can get a random number between 0 and 1 using the python random module as follow:"
   ]
  },
  {
   "cell_type": "code",
   "execution_count": 1,
   "metadata": {},
   "outputs": [
    {
     "name": "stdout",
     "output_type": "stream",
     "text": [
      "The Value of x is 0.3159794501954176\n"
     ]
    }
   ],
   "source": [
    "import random\n",
    "x=random.random()\n",
    "print(\"The Value of x is\", x)"
   ]
  },
  {
   "cell_type": "markdown",
   "metadata": {},
   "source": [
    "Everytime you call random, you will get a new number.\n",
    "\n",
    "*Exercise 1:* Using random, write a function `generate_uniform(N, mymin, mymax)`, that returns a python list containing N random numbers between specified minimum and maximum value. Note that you may want to quickly work out on paper how to turn numbers between 0 and 1 to between other values. "
   ]
  },
  {
   "cell_type": "code",
   "execution_count": 2,
   "metadata": {},
   "outputs": [],
   "source": [
    "import random\n",
    "\n",
    "def generate_uniform(N, x_min, x_max):\n",
    "    out = []\n",
    "    ### BEGIN SOLUTION\n",
    "    for _ in range(N):\n",
    "        r = random.random()\n",
    "        value = x_min + r * (x_max - x_min)\n",
    "        out.append(value)\n",
    "    ### END SOLUTION\n",
    "    return out\n"
   ]
  },
  {
   "cell_type": "code",
   "execution_count": 3,
   "metadata": {},
   "outputs": [
    {
     "name": "stdout",
     "output_type": "stream",
     "text": [
      "Data Type: <class 'list'>\n",
      "Data Length: 1000\n",
      "Type of Data Contents: <class 'float'>\n",
      "Data Minimum: -9.993366844257633\n",
      "Data Maximum: 9.985434748487883\n"
     ]
    }
   ],
   "source": [
    "data = generate_uniform(1000, -10, 10)\n",
    "print(\"Data Type:\", type(data))\n",
    "print(\"Data Length:\", len(data))\n",
    "if len(data) > 0: \n",
    "    print(\"Type of Data Contents:\", type(data[0]))\n",
    "    print(\"Data Minimum:\", min(data))\n",
    "    print(\"Data Maximum:\", max(data))"
   ]
  },
  {
   "cell_type": "markdown",
   "metadata": {},
   "source": [
    "*Exercise 2a:* \n",
    "Write a function that computes the mean of values in a list. Recall the equation for the mean of a random variable $\\bf{x}$ computed on a data set of $n$ values $\\{ x_i \\} = \\{x_1, x_2, ..., x_n\\}$  is ${\\bf\\bar{x}} = \\frac{1}{n} \\sum_i^n x_i$."
   ]
  },
  {
   "cell_type": "code",
   "execution_count": 4,
   "metadata": {},
   "outputs": [],
   "source": [
    "def mean(Data):\n",
    "    m = 0.0\n",
    "    if len(Data) == 0:\n",
    "        return m\n",
    "    \n",
    "    total = 0.0\n",
    "    for x in Data:\n",
    "        total += x\n",
    "    m = total / len(Data)\n",
    "    \n",
    "    return m\n",
    "\n"
   ]
  },
  {
   "cell_type": "code",
   "execution_count": 5,
   "metadata": {},
   "outputs": [
    {
     "name": "stdout",
     "output_type": "stream",
     "text": [
      "Mean of Data: 0.07126707236738748\n"
     ]
    }
   ],
   "source": [
    "# Test your solution here\n",
    "print (\"Mean of Data:\", mean(data))"
   ]
  },
  {
   "cell_type": "markdown",
   "metadata": {},
   "source": [
    "*Exercise 2b:* \n",
    "Write a function that computes the variance of values in a list. Recall the equation for the variance of a random variable $\\bf{x}$ computed on a data set of $n$ values $\\{ x_i \\} = \\{x_1, x_2, ..., x_n\\}$  is ${\\bf\\langle x \\rangle} = \\frac{1}{n-1} \\sum_i^n (x_i - {\\bf\\bar{x}})^2$."
   ]
  },
  {
   "cell_type": "code",
   "execution_count": 6,
   "metadata": {},
   "outputs": [],
   "source": [
    "def variance(Data):\n",
    "    if len(Data) == 0:\n",
    "        return 0.0\n",
    "    \n",
    "    mean_val = sum(Data) / len(Data)\n",
    "    \n",
    "    total = 0.0\n",
    "    for x in Data:\n",
    "        total += (x - mean_val) ** 2\n",
    "        \n",
    "    m = total / len(Data)\n",
    "    return m\n",
    "\n"
   ]
  },
  {
   "cell_type": "code",
   "execution_count": 7,
   "metadata": {},
   "outputs": [
    {
     "name": "stdout",
     "output_type": "stream",
     "text": [
      "Variance of Data: 34.64687705817203\n"
     ]
    }
   ],
   "source": [
    "# Test your solution here\n",
    "print (\"Variance of Data:\", variance(data))"
   ]
  },
  {
   "cell_type": "markdown",
   "metadata": {},
   "source": [
    "## Histogramming"
   ]
  },
  {
   "cell_type": "markdown",
   "metadata": {},
   "source": [
    "*Exercise 3:* Write a function that bins the data so that you can create a histogram. An example of how to implement histogramming is the following logic:\n",
    "\n",
    "* User inputs a list of values `x` and optionally `n_bins` which defaults to 10.\n",
    "* If not supplied, find the minimum and maximum (`x_min`,`x_max`) of the values in x.\n",
    "* Determine the bin size (`bin_size`) by dividing the range of the function by the number of bins.\n",
    "* Create an empty list of zeros of size `n_bins`, call it `hist`.\n",
    "* Loop over the values in `x`\n",
    "    * Loop over the values in `hist` with index `i`:\n",
    "        * If x is between `x_min+i*bin_size` and `x_min+(i+1)*bin_size`, increment `hist[i].` \n",
    "        * For efficiency, try to use continue to goto the next bin and data point.\n",
    "* Return `hist` and the list corresponding of the bin edges (i.e. of `x_min+i*bin_size`).    "
   ]
  },
  {
   "cell_type": "code",
   "execution_count": 8,
   "metadata": {},
   "outputs": [],
   "source": [
    "def histogram(x, n_bins=10, x_min=None, x_max=None):\n",
    "    ### BEGIN SOLUTION\n",
    "    if x_min is None:\n",
    "        x_min = min(x)\n",
    "    if x_max is None:\n",
    "        x_max = max(x)\n",
    "    \n",
    "    bin_size = (x_max - x_min) / n_bins\n",
    "    \n",
    "    hist = [0] * n_bins\n",
    "    \n",
    "    bin_edges = [x_min + i * bin_size for i in range(n_bins + 1)]\n",
    "    \n",
    "    for value in x:\n",
    "        if value == x_max:\n",
    "            hist[-1] += 1\n",
    "            continue\n",
    "        \n",
    "        for i in range(n_bins):\n",
    "            lower_bound = x_min + i * bin_size\n",
    "            upper_bound = x_min + (i + 1) * bin_size\n",
    "            \n",
    "            if lower_bound <= value < upper_bound:\n",
    "                hist[i] += 1\n",
    "                break\n",
    "    ### END SOLUTION\n",
    "    \n",
    "    return hist, bin_edges\n",
    "\n",
    "\n",
    "\n"
   ]
  },
  {
   "cell_type": "code",
   "execution_count": 9,
   "metadata": {},
   "outputs": [
    {
     "name": "stdout",
     "output_type": "stream",
     "text": [
      "[5, 6, 7, 7, 12, 10, 13, 11, 8, 16, 10, 14, 9, 19, 4, 11, 10, 15, 6, 13, 7, 14, 12, 15, 7, 18, 7, 12, 10, 9, 9, 7, 7, 7, 7, 12, 15, 8, 14, 10, 10, 7, 6, 12, 7, 14, 9, 9, 13, 7, 7, 6, 9, 6, 6, 6, 16, 7, 13, 16, 8, 10, 7, 8, 6, 5, 8, 7, 13, 9, 6, 8, 13, 10, 13, 11, 14, 7, 15, 12, 9, 4, 4, 12, 15, 15, 5, 15, 10, 8, 12, 11, 15, 7, 13, 10, 3, 14, 9, 20]\n"
     ]
    }
   ],
   "source": [
    "# Test your solution here\n",
    "h,b=histogram(data,100)\n",
    "print(h)"
   ]
  },
  {
   "cell_type": "markdown",
   "metadata": {},
   "source": [
    "*Exercise 4:* Write a function that uses the histogram function in the previous exercise to create a text-based \"graph\". For example the output could look like the following:\n",
    "```\n",
    "[  0,  1] : ######\n",
    "[  1,  2] : #####\n",
    "[  2,  3] : ######\n",
    "[  3,  4] : ####\n",
    "[  4,  5] : ####\n",
    "[  5,  6] : ######\n",
    "[  6,  7] : #####\n",
    "[  7,  8] : ######\n",
    "[  8,  9] : ####\n",
    "[  9, 10] : #####\n",
    "```\n",
    "\n",
    "Where each line corresponds to a bin and the number of `#`'s are proportional to the value of the data in the bin. "
   ]
  },
  {
   "cell_type": "code",
   "execution_count": 10,
   "metadata": {},
   "outputs": [],
   "source": [
    "def draw_histogram(x, n_bins, x_min=None, x_max=None, character=\"#\", max_character_per_line=20):\n",
    "\n",
    "    hist, bin_edges = histogram(x, n_bins, x_min, x_max)\n",
    "    \n",
    "\n",
    "    if not hist or max(hist) == 0:\n",
    "        print(\"No data to plot or all bins are zero.\")\n",
    "        return hist, bin_edges\n",
    "    \n",
    "\n",
    "    max_count = max(hist)\n",
    "    \n",
    "\n",
    "    for i in range(n_bins):\n",
    "        lower_edge = bin_edges[i]\n",
    "        upper_edge = bin_edges[i + 1]\n",
    "        \n",
    "        bar_length = int((hist[i] / max_count) * max_character_per_line)\n",
    "        \n",
    " \n",
    "        print(f\"[{lower_edge:3.0f}, {upper_edge:3.0f}] : {character * bar_length}\")\n",
    "    \n",
    "    return hist, bin_edges\n"
   ]
  },
  {
   "cell_type": "code",
   "execution_count": 11,
   "metadata": {},
   "outputs": [
    {
     "name": "stdout",
     "output_type": "stream",
     "text": [
      "[  0,   1] : ###############\n",
      "[  1,   2] : #######\n",
      "[  2,   3] : #####\n",
      "[  3,   4] : ##\n",
      "[  4,   5] : ############\n",
      "[  5,   6] : #################\n",
      "[  6,   7] : ###############\n",
      "[  7,   8] : ####################\n",
      "[  8,   9] : #################\n",
      "[  9,  10] : ############\n"
     ]
    }
   ],
   "source": [
    "\n",
    "import random\n",
    "data = [random.uniform(0, 10) for _ in range(50)]\n",
    "\n",
    "\n",
    "h, b = draw_histogram(data, 10)\n"
   ]
  },
  {
   "cell_type": "markdown",
   "metadata": {},
   "source": [
    "## Functional Programming\n",
    "\n",
    "*Exercise 5:* Write a function the applies a booling function (that returns true/false) to every element in data, and return a list of indices of elements where the result was true. Use this function to find the indices of entries greater than 0.5. "
   ]
  },
  {
   "cell_type": "code",
   "execution_count": 12,
   "metadata": {},
   "outputs": [],
   "source": [
    "def where(mylist, myfunc):\n",
    "    out = []\n",
    "    ### BEGIN SOLUTION\n",
    "    for i, value in enumerate(mylist):\n",
    "        if myfunc(value):\n",
    "            out.append(i)\n",
    "    ### END SOLUTION\n",
    "    return out\n",
    "\n",
    "def is_greater_than_half(x):\n",
    "    return x > 0.5"
   ]
  },
  {
   "cell_type": "code",
   "execution_count": 13,
   "metadata": {},
   "outputs": [
    {
     "name": "stdout",
     "output_type": "stream",
     "text": [
      "Indices of entries > 0.5: [1, 2, 4]\n"
     ]
    }
   ],
   "source": [
    "# Test your solution here\n",
    "data = [0.2, 0.7, 0.9, 0.3, 0.6]\n",
    "indices = where(data, is_greater_than_half)\n",
    "print(\"Indices of entries > 0.5:\", indices)"
   ]
  },
  {
   "cell_type": "markdown",
   "metadata": {},
   "source": [
    "*Exercise 6:* The `inrange(mymin,mymax)` function below returns a function that tests if it's input is between the specified values. Write corresponding functions that test:\n",
    "* Even\n",
    "* Odd\n",
    "* Greater than\n",
    "* Less than\n",
    "* Equal\n",
    "* Divisible by"
   ]
  },
  {
   "cell_type": "code",
   "execution_count": 14,
   "metadata": {},
   "outputs": [],
   "source": [
    "def inrange(mymin, mymax):\n",
    "    def testrange(x):\n",
    "        return x < mymax and x >= mymin\n",
    "    return testrange\n",
    "\n",
    "def is_even():\n",
    "    def test(x):\n",
    "        return x % 2 == 0\n",
    "    return test\n",
    "\n",
    "def is_odd():\n",
    "    def test(x):\n",
    "        return x % 2 != 0\n",
    "    return test\n",
    "\n",
    "def greater_than(threshold):\n",
    "    def test(x):\n",
    "        return x > threshold\n",
    "    return test\n",
    "\n",
    "def less_than(threshold):\n",
    "    def test(x):\n",
    "        return x < threshold\n",
    "    return test\n",
    "\n",
    "def equal_to(value):\n",
    "    def test(x):\n",
    "        return x == value\n",
    "    return test\n",
    "\n",
    "def divisible_by(divisor):\n",
    "    def test(x):\n",
    "        if divisor == 0:\n",
    "            return False\n",
    "        return x % divisor == 0\n",
    "    return test\n"
   ]
  },
  {
   "cell_type": "code",
   "execution_count": 15,
   "metadata": {},
   "outputs": [
    {
     "name": "stdout",
     "output_type": "stream",
     "text": [
      "True True False False False\n",
      "False False True True False\n",
      "Number of Entries passing F1: 5\n",
      "Number of Entries passing F2: 0\n"
     ]
    }
   ],
   "source": [
    "### BEGIN SOLUTION\n",
    "\n",
    "# Examples:\n",
    "F1=inrange(0,10)\n",
    "F2=inrange(10,20)\n",
    "\n",
    "# Test of in_range\n",
    "print (F1(0), F1(1), F1(10), F1(15), F1(20))\n",
    "print (F2(0), F2(1), F2(10), F2(15), F2(20))\n",
    "\n",
    "print (\"Number of Entries passing F1:\", len(where(data,F1)))\n",
    "print (\"Number of Entries passing F2:\", len(where(data,F2)))       \n",
    "    \n",
    "### END SOLUTION"
   ]
  },
  {
   "cell_type": "code",
   "execution_count": 16,
   "metadata": {},
   "outputs": [
    {
     "name": "stdout",
     "output_type": "stream",
     "text": [
      "\n",
      "Even/Odd tests:\n",
      "4 is even: True\n",
      "4 is odd: False\n",
      "5 is even: False\n",
      "5 is odd: True\n",
      "\n",
      " >,<,= tests:\n",
      "6 > 5: True\n",
      "4 < 5: True\n",
      "7 == 7: True\n",
      "8 == 7: False\n",
      "\n",
      "Divisibility tests:\n",
      "9 divisible by 3: True\n",
      "10 divisible by 3: False\n"
     ]
    }
   ],
   "source": [
    "# Test your solution\n",
    "even_test = is_even()\n",
    "odd_test = is_odd()\n",
    "print(\"\\nEven/Odd tests:\")\n",
    "print(\"4 is even:\", even_test(4))    \n",
    "print(\"4 is odd:\", odd_test(4))       \n",
    "print(\"5 is even:\", even_test(5))      \n",
    "print(\"5 is odd:\", odd_test(5))       \n",
    "\n",
    "gt_5 = greater_than(5)\n",
    "lt_5 = less_than(5)\n",
    "eq_7 = equal_to(7)\n",
    "print(\"\\n >,<,= tests:\")\n",
    "print(\"6 > 5:\", gt_5(6))       \n",
    "print(\"4 < 5:\", lt_5(4))       \n",
    "print(\"7 == 7:\", eq_7(7))      \n",
    "print(\"8 == 7:\", eq_7(8))      \n",
    "\n",
    "div_3 = divisible_by(3)\n",
    "print(\"\\nDivisibility tests:\")\n",
    "print(\"9 divisible by 3:\", div_3(9))  \n",
    "print(\"10 divisible by 3:\", div_3(10))  \n",
    "### END SOLUTION"
   ]
  },
  {
   "cell_type": "markdown",
   "metadata": {},
   "source": [
    "*Exercise 7:* Repeat the previous exercise using `lambda` and the built-in python functions sum and map instead of your solution above. "
   ]
  },
  {
   "cell_type": "code",
   "execution_count": 17,
   "metadata": {},
   "outputs": [],
   "source": [
    "### BEGIN SOLUTION\n",
    "\n",
    "\n",
    "inrange = lambda mymin, mymax: (lambda x: mymin <= x < mymax)\n",
    "\n",
    "is_even = lambda: (lambda x: x % 2 == 0)\n",
    "\n",
    "is_odd = lambda: (lambda x: x % 2 != 0)\n",
    "\n",
    "greater_than = lambda val: (lambda x: x > val)\n",
    "\n",
    "less_than = lambda val: (lambda x: x < val)\n",
    "\n",
    "equal_to = lambda val: (lambda x: x == val)\n",
    "\n",
    "divisible_by = lambda val: (lambda x: (val != 0) and (x % val == 0))\n",
    "\n",
    "\n",
    "    \n",
    "### END SOLUTION"
   ]
  },
  {
   "cell_type": "code",
   "execution_count": 18,
   "metadata": {},
   "outputs": [
    {
     "name": "stdout",
     "output_type": "stream",
     "text": [
      "8\n",
      "Number even: 6\n",
      "Number odd: 5\n",
      "Number greater than 5: 5\n",
      "Number less than 5: 5\n",
      "Number equal to 7: 1\n",
      "Number divisible by 3: 4\n"
     ]
    }
   ],
   "source": [
    "# Test\n",
    "\n",
    "data = [0, 1, 2, 3, 4, 5, 6, 7, 8, 9, 10]\n",
    "\n",
    "count_inrange = sum(map(inrange(2, 10), data))\n",
    "count_even    = sum(map(is_even(), data))\n",
    "count_odd     = sum(map(is_odd(), data))\n",
    "count_gt5     = sum(map(greater_than(5), data))\n",
    "count_lt5     = sum(map(less_than(5), data))\n",
    "count_eq7     = sum(map(equal_to(7), data))\n",
    "count_div3    = sum(map(divisible_by(3), data))\n",
    "\n",
    "print(count_inrange)\n",
    "print(\"Number even:\", count_even)\n",
    "print(\"Number odd:\", count_odd)\n",
    "print(\"Number greater than 5:\", count_gt5)\n",
    "print(\"Number less than 5:\", count_lt5)\n",
    "print(\"Number equal to 7:\", count_eq7)\n",
    "print(\"Number divisible by 3:\", count_div3)"
   ]
  },
  {
   "cell_type": "markdown",
   "metadata": {},
   "source": [
    "## Monte Carlo\n",
    "\n",
    "*Exercise 7:* Write a \"generator\" function called `generate_function(func,x_min,x_max,N)`, that instead of generating a flat distribution, generates a distribution with functional form coded in `func`. Note that `func` will always be > 0.  \n",
    "\n",
    "Use the test function below and your histogramming functions above to demonstrate that your generator is working properly.\n",
    "\n",
    "Hint: A simple, but slow, solution is to a draw random number `test_x` within the specified range and another number `p` between the `min` and `max` of the function (which you will have to determine). If `p<=function(test_x)`, then place `test_x` on the output. If not, repeat the process, drawing two new numbers. Repeat until you have the specified number of generated numbers, `N`. For this problem, it's OK to determine the `min` and `max` by numerically sampling the function.  "
   ]
  },
  {
   "cell_type": "code",
   "execution_count": 19,
   "metadata": {},
   "outputs": [],
   "source": [
    "def generate_function(func,x_min,x_max,N=1000):\n",
    "    out = []\n",
    "\n",
    "    sample_points = 1000\n",
    "    xs = [x_min + i*(x_max - x_min)/sample_points for i in range(sample_points + 1)]\n",
    "    f_values = [func(x) for x in xs]\n",
    "    f_max = max(f_values)\n",
    "    \n",
    "    import random\n",
    "    while len(out) < N:\n",
    "        test_x = random.uniform(x_min, x_max)\n",
    "        p = random.uniform(0, f_max)\n",
    "        if p <= func(test_x):\n",
    "            out.append(test_x)\n",
    "            \n",
    "    return out"
   ]
  },
  {
   "cell_type": "code",
   "execution_count": 20,
   "metadata": {},
   "outputs": [
    {
     "name": "stdout",
     "output_type": "stream",
     "text": [
      "Histogram counts: [94, 61, 66, 54, 35, 37, 21, 16, 3, 3, 11, 27, 38, 40, 58, 66, 78, 93, 94, 105]\n",
      "Bin edges: [-10.0, -9.0, -8.0, -7.0, -6.0, -5.0, -4.0, -3.0, -2.0, -1.0, 0.0, 1.0, 2.0, 3.0, 4.0, 5.0, 6.0, 7.0, 8.0, 9.0, 10.0]\n"
     ]
    }
   ],
   "source": [
    "# A test function\n",
    "def test_func(x,a=1,b=1):\n",
    "    return abs(a*x+b)\n",
    "\n",
    "data = generate_function(lambda x: test_func(x, a=1, b=1), -10, 10, N=1000)\n",
    "\n",
    "h, bin_edges = histogram(data, n_bins=20, x_min=-10, x_max=10)\n",
    "print(\"Histogram counts:\", h)\n",
    "print(\"Bin edges:\", bin_edges)\n"
   ]
  },
  {
   "cell_type": "markdown",
   "metadata": {},
   "source": [
    "*Exercise 8:* Use your function to generate 1000 numbers that are normal distributed, using the `gaussian` function below. Confirm the mean and variance of the data is close to the mean and variance you specify when building the Gaussian. Histogram the data. "
   ]
  },
  {
   "cell_type": "code",
   "execution_count": 21,
   "metadata": {},
   "outputs": [
    {
     "name": "stdout",
     "output_type": "stream",
     "text": [
      "Generated 1000 samples from gaussian(0,1)\n",
      "Sample Mean:    -0.049116655267138876\n",
      "Sample Variance: 1.0925889866982166\n",
      "\n",
      "Histogram counts: [0, 0, 0, 5, 8, 22, 55, 91, 148, 182, 182, 153, 85, 50, 14, 4, 1, 0, 0, 0]\n",
      "Bin edges: [-5.0, -4.5, -4.0, -3.5, -3.0, -2.5, -2.0, -1.5, -1.0, -0.5, 0.0, 0.5, 1.0, 1.5, 2.0, 2.5, 3.0, 3.5, 4.0, 4.5, 5.0]\n"
     ]
    }
   ],
   "source": [
    "import math\n",
    "\n",
    "def gaussian(mean, sigma):\n",
    "    def f(x):\n",
    "        return math.exp(-((x-mean)**2)/(2*sigma**2))/math.sqrt(math.pi*sigma)\n",
    "    return f\n",
    "\n",
    "\n",
    "import math\n",
    "import random\n",
    "\n",
    "def gaussian(mean, sigma):\n",
    "    def f(x):\n",
    "        return math.exp(-((x - mean)**2) / (2 * sigma**2)) / math.sqrt(math.pi * sigma)\n",
    "    return f\n",
    "\n",
    "def generate_function(func, x_min, x_max, N=1000):\n",
    "    out = []\n",
    "    sample_points = 1000\n",
    "    xs = [x_min + i * (x_max - x_min) / sample_points for i in range(sample_points + 1)]\n",
    "    f_values = [func(x) for x in xs]\n",
    "    f_max = max(f_values)\n",
    "    \n",
    "    while len(out) < N:\n",
    "        test_x = random.uniform(x_min, x_max)\n",
    "        p = random.uniform(0, f_max)\n",
    "        if p <= func(test_x):\n",
    "            out.append(test_x)\n",
    "    return out\n",
    "\n",
    "def mean(Data):\n",
    "    return sum(Data) / len(Data) if Data else 0.0\n",
    "\n",
    "def variance(Data):\n",
    "    if not Data:\n",
    "        return 0.0\n",
    "    m = mean(Data)\n",
    "    return sum((x - m) ** 2 for x in Data) / len(Data)\n",
    "\n",
    "def histogram(x, n_bins=10, x_min=None, x_max=None):\n",
    "    if x_min is None:\n",
    "        x_min = min(x)\n",
    "    if x_max is None:\n",
    "        x_max = max(x)\n",
    "    bin_size = (x_max - x_min) / n_bins\n",
    "    hist = [0] * n_bins\n",
    "    bin_edges = [x_min + i * bin_size for i in range(n_bins + 1)]\n",
    "    \n",
    "    for value in x:\n",
    "        if value == x_max:\n",
    "            hist[-1] += 1\n",
    "            continue\n",
    "        for i in range(n_bins):\n",
    "            lower = x_min + i * bin_size\n",
    "            upper = x_min + (i + 1) * bin_size\n",
    "            if lower <= value < upper:\n",
    "                hist[i] += 1\n",
    "                break\n",
    "    return hist, bin_edges\n",
    "\n",
    "\n",
    "g1 = gaussian(0, 1)\n",
    "\n",
    "x_min = -5  \n",
    "x_max = 5\n",
    "\n",
    "data = generate_function(g1, x_min, x_max, N=1000)\n",
    "\n",
    "print(\"Generated 1000 samples from gaussian(0,1)\")\n",
    "print(\"Sample Mean:   \", mean(data))\n",
    "print(\"Sample Variance:\", variance(data))\n",
    "\n",
    "h, bin_edges = histogram(data, n_bins=20, x_min=x_min, x_max=x_max)\n",
    "print(\"\\nHistogram counts:\", h)\n",
    "print(\"Bin edges:\", bin_edges)\n",
    "\n"
   ]
  },
  {
   "cell_type": "markdown",
   "metadata": {},
   "source": [
    "*Exercise 9:* Combine your `generate_function`, `where`, and `in_range` functions above to create an integrate function. Use your integrate function to show that approximately 68% of Normal distribution is within one variance."
   ]
  },
  {
   "cell_type": "code",
   "execution_count": 22,
   "metadata": {},
   "outputs": [
    {
     "name": "stdout",
     "output_type": "stream",
     "text": [
      "Total integrated area (approx.): 1.4224048459172796\n",
      "Area within one sigma (approx.): 0.9646092352296975\n",
      "Fraction within one sigma (should be ~0.68): 0.6781537886336719\n"
     ]
    }
   ],
   "source": [
    "def integrate(func, x_min, x_max, n_points=1000):\n",
    "\n",
    "    xs = generate_function(lambda x: 1, x_min, x_max, n_points)\n",
    "    avg_val = sum(func(x) for x in xs) / n_points\n",
    "    integral = (x_max - x_min) * avg_val\n",
    "    return integral\n",
    "\n",
    "import random\n",
    "\n",
    "def generate_function(func, x_min, x_max, N=1000):\n",
    "\n",
    "    out = []\n",
    "    while len(out) < N:\n",
    "        test_x = random.uniform(x_min, x_max)\n",
    "        if func(test_x):\n",
    "            out.append(test_x)\n",
    "    return out\n",
    "\n",
    "def in_range(mymin, mymax):\n",
    "    return lambda x: mymin <= x < mymax\n",
    "\n",
    "def where(mylist, myfunc):\n",
    "    return [i for i, value in enumerate(mylist) if myfunc(value)]\n",
    "\n",
    "\n",
    "import math\n",
    "def gaussian(mean, sigma):\n",
    "    def f(x):\n",
    "        return math.exp(-((x-mean)**2)/(2*sigma**2)) / math.sqrt(math.pi*sigma)\n",
    "    return f\n",
    "\n",
    "\n",
    "g1 = gaussian(0, 1)\n",
    "\n",
    "total_area = integrate(g1, -5, 5, n_points=10000)\n",
    "area_1sigma = integrate(g1, -1, 1, n_points=10000)\n",
    "\n",
    "fraction = area_1sigma / total_area\n",
    "\n",
    "print(\"Total integrated area (approx.):\", total_area)\n",
    "print(\"Area within one sigma (approx.):\", area_1sigma)\n",
    "print(\"Fraction within one sigma (should be ~0.68):\", fraction)\n",
    "\n"
   ]
  },
  {
   "cell_type": "code",
   "execution_count": null,
   "metadata": {},
   "outputs": [],
   "source": []
  },
  {
   "cell_type": "code",
   "execution_count": null,
   "metadata": {},
   "outputs": [],
   "source": []
  }
 ],
 "metadata": {
  "kernelspec": {
   "display_name": "Python 3 (ipykernel)",
   "language": "python",
   "name": "python3"
  },
  "language_info": {
   "codemirror_mode": {
    "name": "ipython",
    "version": 3
   },
   "file_extension": ".py",
   "mimetype": "text/x-python",
   "name": "python",
   "nbconvert_exporter": "python",
   "pygments_lexer": "ipython3",
   "version": "3.12.3"
  }
 },
 "nbformat": 4,
 "nbformat_minor": 2
}
